{
 "cells": [
  {
   "cell_type": "code",
   "execution_count": null,
   "id": "fa8e73cc",
   "metadata": {},
   "outputs": [],
   "source": [
    "!pip install accelerate>=0.12.0 transformers[torch]==4.25.1"
   ]
  },
  {
   "cell_type": "code",
   "execution_count": null,
   "id": "69adda01",
   "metadata": {},
   "outputs": [],
   "source": [
    "import torch\n",
    "from transformers import pipeline\n",
    "\n",
    "generate_text = pipeline(model=\"databricks/dolly-v2-12b\", torch_dtype=torch.bfloat16, trust_remote_code=True, device_map=\"auto\")"
   ]
  },
  {
   "cell_type": "code",
   "execution_count": null,
   "id": "f7fbfa0a",
   "metadata": {},
   "outputs": [],
   "source": [
    "generate_text(\"Explain to me the difference between nuclear fission and fusion.\")"
   ]
  },
  {
   "cell_type": "code",
   "execution_count": null,
   "id": "412eb896",
   "metadata": {},
   "outputs": [],
   "source": [
    "generate_text(\"Explain Demonitisation\")"
   ]
  },
  {
   "cell_type": "code",
   "execution_count": null,
   "id": "8f31f962",
   "metadata": {},
   "outputs": [],
   "source": []
  }
 ],
 "metadata": {
  "kernelspec": {
   "display_name": "Python 3 (ipykernel)",
   "language": "python",
   "name": "python3"
  },
  "language_info": {
   "codemirror_mode": {
    "name": "ipython",
    "version": 3
   },
   "file_extension": ".py",
   "mimetype": "text/x-python",
   "name": "python",
   "nbconvert_exporter": "python",
   "pygments_lexer": "ipython3",
   "version": "3.9.12"
  }
 },
 "nbformat": 4,
 "nbformat_minor": 5
}
